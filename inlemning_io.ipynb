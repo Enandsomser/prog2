{
 "metadata": {
  "language_info": {
   "codemirror_mode": {
    "name": "ipython",
    "version": 3
   },
   "file_extension": ".py",
   "mimetype": "text/x-python",
   "name": "python",
   "nbconvert_exporter": "python",
   "pygments_lexer": "ipython3",
   "version": "3.8.3-final"
  },
  "orig_nbformat": 2,
  "kernelspec": {
   "name": "python_defaultSpec_1600852858333",
   "display_name": "Python 3.8.3 64-bit ('base': conda)"
  }
 },
 "nbformat": 4,
 "nbformat_minor": 2,
 "cells": [
  {
   "cell_type": "code",
   "execution_count": null,
   "metadata": {},
   "outputs": [],
   "source": [
    "x = float(input(\"välj ett tal, posetivt, negativt eller 0\"))\n",
    "if x > 0:\n",
    "    print(\"ditt tal är positivt\")\n",
    "elif x < 0:\n",
    "    print(\"ditt tal är negativt\")\n",
    "else:\n",
    "    print(\"ditt tal är 0\")"
   ]
  },
  {
   "cell_type": "code",
   "execution_count": null,
   "metadata": {},
   "outputs": [],
   "source": [
    "x = float(input(\"välj ett tal\"))\n",
    "if x % 2 == 0:\n",
    "    print(\"talet är jämt\")\n",
    "else:\n",
    "    print(\"talet är ojämt\")\n",
    "if x % 5 == 0:\n",
    "    print(\"talet går att dela med 5\")"
   ]
  },
  {
   "cell_type": "code",
   "execution_count": null,
   "metadata": {},
   "outputs": [],
   "source": [
    "y = float(input(\"välj ett tal\"))\n",
    "x = float(input(\"välj ett till tal\"))\n",
    "if y > x:\n",
    "    print(f\"{y} är det större talet\")\n",
    "elif x > y:\n",
    "    print(f\"{x} är det större talet\")\n",
    "else:\n",
    "    print(\"de är lika stora\")"
   ]
  },
  {
   "cell_type": "code",
   "execution_count": null,
   "metadata": {},
   "outputs": [],
   "source": [
    "x = float(input(\"skriv in en vinkel\"))\n",
    "if x == 90:\n",
    "    print(\"det är en rät vinkel\")\n",
    "elif x == 360:\n",
    "    print(\"det är en hel vinkel\")\n",
    "elif x > 90 and x < 180:\n",
    "    print(\"det är en trubbig vinkel\")\n",
    "elif x > 0 and x < 90:\n",
    "    print(\"det är en spetsig vinkel\")\n",
    "elif x == 180:\n",
    "    print(\"det är en rak vinkel\")\n",
    "elif x > 180 and x < 360:\n",
    "    print(\"det är en konvex vinkel\")"
   ]
  },
  {
   "cell_type": "code",
   "execution_count": 1,
   "metadata": {},
   "outputs": [
    {
     "output_type": "error",
     "ename": "IndentationError",
     "evalue": "unexpected indent (<ipython-input-1-9132a72846ff>, line 2)",
     "traceback": [
      "\u001b[1;36m  File \u001b[1;32m\"<ipython-input-1-9132a72846ff>\"\u001b[1;36m, line \u001b[1;32m2\u001b[0m\n\u001b[1;33m    Y = x * x * 3.14\u001b[0m\n\u001b[1;37m    ^\u001b[0m\n\u001b[1;31mIndentationError\u001b[0m\u001b[1;31m:\u001b[0m unexpected indent\n"
     ]
    }
   ],
   "source": [
    "x = float(input(\"skriv in en radie\"))\n",
    " Y = x * x * 3.14 \n",
    "   z = x * 2 * 3.14 \n",
    "if x == 0:\n",
    "    print(f\"radien kan inte vara {x} eftersom då är det ingen cirkel\")\n",
    "elif x < 0:\n",
    "    print(f\"ERROR. Radien på en cirkel kan inte varra negativ\")\n",
    "else:\n",
    "    print(f\"Arean på din cirkel är {Y} stor och omkretsen är {z}\")"
   ]
  },
  {
   "cell_type": "code",
   "execution_count": null,
   "metadata": {},
   "outputs": [],
   "source": []
  }
 ]
}